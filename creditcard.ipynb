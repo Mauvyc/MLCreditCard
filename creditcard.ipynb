{
 "cells": [
  {
   "cell_type": "markdown",
   "id": "972cd9b3",
   "metadata": {},
   "source": [
    "![Credit Card](credit_card.jpg)\n",
    "\n",
    "Commercial banks receive _a lot_ of applications for credit cards. Many of them get rejected for many reasons, like high loan balances, low income levels, or too many inquiries on an individual's credit report, for example. Manually analyzing these applications is mundane, error-prone, and time-consuming (and time is money!). Luckily, this task can be automated with the power of machine learning and pretty much every commercial bank does so nowadays. In this workbook, you will build an automatic credit card approval predictor using machine learning techniques, just like real banks do.\n",
    "\n",
    "### The Data\n",
    "\n",
    "The data is a small subset of the Credit Card Approval dataset from the UCI Machine Learning Repository showing the credit card applications a bank receives. This dataset has been loaded as a `pandas` DataFrame called `cc_apps`. The last column in the dataset is the target value."
   ]
  },
  {
   "cell_type": "markdown",
   "id": "4ba6991b",
   "metadata": {},
   "source": [
    "### 1. Importación de Librerías\n",
    "\n",
    "Importamos todas las bibliotecas necesarias para el análisis:\n",
    "- **pandas** y **numpy**: para manipulación de datos\n",
    "- **train_test_split**: para dividir los datos en conjuntos de entrenamiento y prueba\n",
    "- **LabelEncoder** y **StandardScaler**: para preprocesar y escalar los datos\n",
    "- **LogisticRegression**: el modelo de clasificación que utilizaremos\n",
    "- **confusion_matrix** y **classification_report**: para evaluar el rendimiento del modelo\n",
    "- **GridSearchCV**: para optimizar los hiperparámetros del modelo"
   ]
  },
  {
   "cell_type": "code",
   "execution_count": 33,
   "id": "e82d8fc5",
   "metadata": {},
   "outputs": [],
   "source": [
    "import pandas as pd\n",
    "import numpy as np\n",
    "from sklearn.model_selection import train_test_split as tts\n",
    "from sklearn.preprocessing import LabelEncoder\n",
    "from sklearn.preprocessing import StandardScaler\n",
    "from sklearn.linear_model import LogisticRegression\n",
    "from sklearn.metrics import confusion_matrix, classification_report\n",
    "from sklearn.model_selection import GridSearchCV"
   ]
  },
  {
   "cell_type": "markdown",
   "id": "6c7bf3d3",
   "metadata": {},
   "source": [
    "### 2. Carga de Datos\n",
    "\n",
    "Cargamos el dataset de aprobaciones de tarjetas de crédito desde el archivo CSV. Como el archivo no tiene encabezados, usamos `header=None`."
   ]
  },
  {
   "cell_type": "code",
   "execution_count": 3,
   "id": "f32f4158",
   "metadata": {},
   "outputs": [],
   "source": [
    "cc_apss = pd.read_csv('cc_approvals.data', header=None)"
   ]
  },
  {
   "cell_type": "markdown",
   "id": "1ceb167a",
   "metadata": {},
   "source": [
    "### 3. Exploración Inicial de Datos\n",
    "\n",
    "Visualizamos las primeras filas del dataset para entender su estructura y contenido."
   ]
  },
  {
   "cell_type": "code",
   "execution_count": 4,
   "id": "93a48feb",
   "metadata": {},
   "outputs": [
    {
     "data": {
      "text/html": [
       "<div>\n",
       "<style scoped>\n",
       "    .dataframe tbody tr th:only-of-type {\n",
       "        vertical-align: middle;\n",
       "    }\n",
       "\n",
       "    .dataframe tbody tr th {\n",
       "        vertical-align: top;\n",
       "    }\n",
       "\n",
       "    .dataframe thead th {\n",
       "        text-align: right;\n",
       "    }\n",
       "</style>\n",
       "<table border=\"1\" class=\"dataframe\">\n",
       "  <thead>\n",
       "    <tr style=\"text-align: right;\">\n",
       "      <th></th>\n",
       "      <th>0</th>\n",
       "      <th>1</th>\n",
       "      <th>2</th>\n",
       "      <th>3</th>\n",
       "      <th>4</th>\n",
       "      <th>5</th>\n",
       "      <th>6</th>\n",
       "      <th>7</th>\n",
       "      <th>8</th>\n",
       "      <th>9</th>\n",
       "      <th>10</th>\n",
       "      <th>11</th>\n",
       "      <th>12</th>\n",
       "      <th>13</th>\n",
       "    </tr>\n",
       "  </thead>\n",
       "  <tbody>\n",
       "    <tr>\n",
       "      <th>0</th>\n",
       "      <td>b</td>\n",
       "      <td>30.83</td>\n",
       "      <td>0.000</td>\n",
       "      <td>u</td>\n",
       "      <td>g</td>\n",
       "      <td>w</td>\n",
       "      <td>v</td>\n",
       "      <td>1.25</td>\n",
       "      <td>t</td>\n",
       "      <td>t</td>\n",
       "      <td>1</td>\n",
       "      <td>g</td>\n",
       "      <td>0</td>\n",
       "      <td>+</td>\n",
       "    </tr>\n",
       "    <tr>\n",
       "      <th>1</th>\n",
       "      <td>a</td>\n",
       "      <td>58.67</td>\n",
       "      <td>4.460</td>\n",
       "      <td>u</td>\n",
       "      <td>g</td>\n",
       "      <td>q</td>\n",
       "      <td>h</td>\n",
       "      <td>3.04</td>\n",
       "      <td>t</td>\n",
       "      <td>t</td>\n",
       "      <td>6</td>\n",
       "      <td>g</td>\n",
       "      <td>560</td>\n",
       "      <td>+</td>\n",
       "    </tr>\n",
       "    <tr>\n",
       "      <th>2</th>\n",
       "      <td>a</td>\n",
       "      <td>24.50</td>\n",
       "      <td>0.500</td>\n",
       "      <td>u</td>\n",
       "      <td>g</td>\n",
       "      <td>q</td>\n",
       "      <td>h</td>\n",
       "      <td>1.50</td>\n",
       "      <td>t</td>\n",
       "      <td>f</td>\n",
       "      <td>0</td>\n",
       "      <td>g</td>\n",
       "      <td>824</td>\n",
       "      <td>+</td>\n",
       "    </tr>\n",
       "    <tr>\n",
       "      <th>3</th>\n",
       "      <td>b</td>\n",
       "      <td>27.83</td>\n",
       "      <td>1.540</td>\n",
       "      <td>u</td>\n",
       "      <td>g</td>\n",
       "      <td>w</td>\n",
       "      <td>v</td>\n",
       "      <td>3.75</td>\n",
       "      <td>t</td>\n",
       "      <td>t</td>\n",
       "      <td>5</td>\n",
       "      <td>g</td>\n",
       "      <td>3</td>\n",
       "      <td>+</td>\n",
       "    </tr>\n",
       "    <tr>\n",
       "      <th>4</th>\n",
       "      <td>b</td>\n",
       "      <td>20.17</td>\n",
       "      <td>5.625</td>\n",
       "      <td>u</td>\n",
       "      <td>g</td>\n",
       "      <td>w</td>\n",
       "      <td>v</td>\n",
       "      <td>1.71</td>\n",
       "      <td>t</td>\n",
       "      <td>f</td>\n",
       "      <td>0</td>\n",
       "      <td>s</td>\n",
       "      <td>0</td>\n",
       "      <td>+</td>\n",
       "    </tr>\n",
       "  </tbody>\n",
       "</table>\n",
       "</div>"
      ],
      "text/plain": [
       "  0      1      2  3  4  5  6     7  8  9   10 11   12 13\n",
       "0  b  30.83  0.000  u  g  w  v  1.25  t  t   1  g    0  +\n",
       "1  a  58.67  4.460  u  g  q  h  3.04  t  t   6  g  560  +\n",
       "2  a  24.50  0.500  u  g  q  h  1.50  t  f   0  g  824  +\n",
       "3  b  27.83  1.540  u  g  w  v  3.75  t  t   5  g    3  +\n",
       "4  b  20.17  5.625  u  g  w  v  1.71  t  f   0  s    0  +"
      ]
     },
     "execution_count": 4,
     "metadata": {},
     "output_type": "execute_result"
    }
   ],
   "source": [
    "cc_apss.head()"
   ]
  },
  {
   "cell_type": "markdown",
   "id": "07b2dd58",
   "metadata": {},
   "source": [
    "### 4. Información del Dataset\n",
    "\n",
    "Obtenemos información sobre los tipos de datos, cantidad de valores no nulos y uso de memoria del dataset."
   ]
  },
  {
   "cell_type": "code",
   "execution_count": 5,
   "id": "54f0d3ca",
   "metadata": {},
   "outputs": [
    {
     "name": "stdout",
     "output_type": "stream",
     "text": [
      "<class 'pandas.core.frame.DataFrame'>\n",
      "RangeIndex: 690 entries, 0 to 689\n",
      "Data columns (total 14 columns):\n",
      " #   Column  Non-Null Count  Dtype  \n",
      "---  ------  --------------  -----  \n",
      " 0   0       690 non-null    object \n",
      " 1   1       690 non-null    object \n",
      " 2   2       690 non-null    float64\n",
      " 3   3       690 non-null    object \n",
      " 4   4       690 non-null    object \n",
      " 5   5       690 non-null    object \n",
      " 6   6       690 non-null    object \n",
      " 7   7       690 non-null    float64\n",
      " 8   8       690 non-null    object \n",
      " 9   9       690 non-null    object \n",
      " 10  10      690 non-null    int64  \n",
      " 11  11      690 non-null    object \n",
      " 12  12      690 non-null    int64  \n",
      " 13  13      690 non-null    object \n",
      "dtypes: float64(2), int64(2), object(10)\n",
      "memory usage: 75.6+ KB\n"
     ]
    }
   ],
   "source": [
    "cc_apss.info()"
   ]
  },
  {
   "cell_type": "markdown",
   "id": "58bb7622",
   "metadata": {},
   "source": [
    "### 5. Estadísticas Descriptivas - Variables Numéricas\n",
    "\n",
    "Generamos estadísticas descriptivas (media, desviación estándar, min, max, cuartiles) para las columnas numéricas del dataset."
   ]
  },
  {
   "cell_type": "code",
   "execution_count": 6,
   "id": "d9fb8604",
   "metadata": {},
   "outputs": [
    {
     "data": {
      "text/html": [
       "<div>\n",
       "<style scoped>\n",
       "    .dataframe tbody tr th:only-of-type {\n",
       "        vertical-align: middle;\n",
       "    }\n",
       "\n",
       "    .dataframe tbody tr th {\n",
       "        vertical-align: top;\n",
       "    }\n",
       "\n",
       "    .dataframe thead th {\n",
       "        text-align: right;\n",
       "    }\n",
       "</style>\n",
       "<table border=\"1\" class=\"dataframe\">\n",
       "  <thead>\n",
       "    <tr style=\"text-align: right;\">\n",
       "      <th></th>\n",
       "      <th>count</th>\n",
       "      <th>mean</th>\n",
       "      <th>std</th>\n",
       "      <th>min</th>\n",
       "      <th>25%</th>\n",
       "      <th>50%</th>\n",
       "      <th>75%</th>\n",
       "      <th>max</th>\n",
       "    </tr>\n",
       "  </thead>\n",
       "  <tbody>\n",
       "    <tr>\n",
       "      <th>2</th>\n",
       "      <td>690.0</td>\n",
       "      <td>4.758725</td>\n",
       "      <td>4.978163</td>\n",
       "      <td>0.0</td>\n",
       "      <td>1.000</td>\n",
       "      <td>2.75</td>\n",
       "      <td>7.2075</td>\n",
       "      <td>28.0</td>\n",
       "    </tr>\n",
       "    <tr>\n",
       "      <th>7</th>\n",
       "      <td>690.0</td>\n",
       "      <td>2.223406</td>\n",
       "      <td>3.346513</td>\n",
       "      <td>0.0</td>\n",
       "      <td>0.165</td>\n",
       "      <td>1.00</td>\n",
       "      <td>2.6250</td>\n",
       "      <td>28.5</td>\n",
       "    </tr>\n",
       "    <tr>\n",
       "      <th>10</th>\n",
       "      <td>690.0</td>\n",
       "      <td>2.400000</td>\n",
       "      <td>4.862940</td>\n",
       "      <td>0.0</td>\n",
       "      <td>0.000</td>\n",
       "      <td>0.00</td>\n",
       "      <td>3.0000</td>\n",
       "      <td>67.0</td>\n",
       "    </tr>\n",
       "    <tr>\n",
       "      <th>12</th>\n",
       "      <td>690.0</td>\n",
       "      <td>1017.385507</td>\n",
       "      <td>5210.102598</td>\n",
       "      <td>0.0</td>\n",
       "      <td>0.000</td>\n",
       "      <td>5.00</td>\n",
       "      <td>395.5000</td>\n",
       "      <td>100000.0</td>\n",
       "    </tr>\n",
       "  </tbody>\n",
       "</table>\n",
       "</div>"
      ],
      "text/plain": [
       "    count         mean          std  min    25%   50%       75%       max\n",
       "2   690.0     4.758725     4.978163  0.0  1.000  2.75    7.2075      28.0\n",
       "7   690.0     2.223406     3.346513  0.0  0.165  1.00    2.6250      28.5\n",
       "10  690.0     2.400000     4.862940  0.0  0.000  0.00    3.0000      67.0\n",
       "12  690.0  1017.385507  5210.102598  0.0  0.000  5.00  395.5000  100000.0"
      ]
     },
     "execution_count": 6,
     "metadata": {},
     "output_type": "execute_result"
    }
   ],
   "source": [
    "cc_apss.describe().T"
   ]
  },
  {
   "cell_type": "markdown",
   "id": "b4576cc3",
   "metadata": {},
   "source": [
    "### 6. Estadísticas Descriptivas - Variables Categóricas\n",
    "\n",
    "Generamos estadísticas descriptivas (conteo, valores únicos, frecuencia) para las columnas de tipo objeto (categóricas)."
   ]
  },
  {
   "cell_type": "code",
   "execution_count": 8,
   "id": "7436b0b3",
   "metadata": {},
   "outputs": [
    {
     "data": {
      "text/html": [
       "<div>\n",
       "<style scoped>\n",
       "    .dataframe tbody tr th:only-of-type {\n",
       "        vertical-align: middle;\n",
       "    }\n",
       "\n",
       "    .dataframe tbody tr th {\n",
       "        vertical-align: top;\n",
       "    }\n",
       "\n",
       "    .dataframe thead th {\n",
       "        text-align: right;\n",
       "    }\n",
       "</style>\n",
       "<table border=\"1\" class=\"dataframe\">\n",
       "  <thead>\n",
       "    <tr style=\"text-align: right;\">\n",
       "      <th></th>\n",
       "      <th>count</th>\n",
       "      <th>unique</th>\n",
       "      <th>top</th>\n",
       "      <th>freq</th>\n",
       "    </tr>\n",
       "  </thead>\n",
       "  <tbody>\n",
       "    <tr>\n",
       "      <th>0</th>\n",
       "      <td>690</td>\n",
       "      <td>3</td>\n",
       "      <td>b</td>\n",
       "      <td>468</td>\n",
       "    </tr>\n",
       "    <tr>\n",
       "      <th>1</th>\n",
       "      <td>690</td>\n",
       "      <td>350</td>\n",
       "      <td>?</td>\n",
       "      <td>12</td>\n",
       "    </tr>\n",
       "    <tr>\n",
       "      <th>3</th>\n",
       "      <td>690</td>\n",
       "      <td>4</td>\n",
       "      <td>u</td>\n",
       "      <td>519</td>\n",
       "    </tr>\n",
       "    <tr>\n",
       "      <th>4</th>\n",
       "      <td>690</td>\n",
       "      <td>4</td>\n",
       "      <td>g</td>\n",
       "      <td>519</td>\n",
       "    </tr>\n",
       "    <tr>\n",
       "      <th>5</th>\n",
       "      <td>690</td>\n",
       "      <td>15</td>\n",
       "      <td>c</td>\n",
       "      <td>137</td>\n",
       "    </tr>\n",
       "    <tr>\n",
       "      <th>6</th>\n",
       "      <td>690</td>\n",
       "      <td>10</td>\n",
       "      <td>v</td>\n",
       "      <td>399</td>\n",
       "    </tr>\n",
       "    <tr>\n",
       "      <th>8</th>\n",
       "      <td>690</td>\n",
       "      <td>2</td>\n",
       "      <td>t</td>\n",
       "      <td>361</td>\n",
       "    </tr>\n",
       "    <tr>\n",
       "      <th>9</th>\n",
       "      <td>690</td>\n",
       "      <td>2</td>\n",
       "      <td>f</td>\n",
       "      <td>395</td>\n",
       "    </tr>\n",
       "    <tr>\n",
       "      <th>11</th>\n",
       "      <td>690</td>\n",
       "      <td>3</td>\n",
       "      <td>g</td>\n",
       "      <td>625</td>\n",
       "    </tr>\n",
       "    <tr>\n",
       "      <th>13</th>\n",
       "      <td>690</td>\n",
       "      <td>2</td>\n",
       "      <td>-</td>\n",
       "      <td>383</td>\n",
       "    </tr>\n",
       "  </tbody>\n",
       "</table>\n",
       "</div>"
      ],
      "text/plain": [
       "   count unique top freq\n",
       "0    690      3   b  468\n",
       "1    690    350   ?   12\n",
       "3    690      4   u  519\n",
       "4    690      4   g  519\n",
       "5    690     15   c  137\n",
       "6    690     10   v  399\n",
       "8    690      2   t  361\n",
       "9    690      2   f  395\n",
       "11   690      3   g  625\n",
       "13   690      2   -  383"
      ]
     },
     "execution_count": 8,
     "metadata": {},
     "output_type": "execute_result"
    }
   ],
   "source": [
    "cc_apss.describe(include=['object']).T"
   ]
  },
  {
   "cell_type": "markdown",
   "id": "ed9e681e",
   "metadata": {},
   "source": [
    "### 7. Limpieza de Datos - Reemplazo de Valores Faltantes\n",
    "\n",
    "Reemplazamos todos los valores '?' en el dataset con `NaN` de numpy para poder identificar y manejar los valores faltantes correctamente."
   ]
  },
  {
   "cell_type": "code",
   "execution_count": 9,
   "id": "b3161349",
   "metadata": {},
   "outputs": [],
   "source": [
    "cc_apss.replace('?', np.nan, inplace=True)"
   ]
  },
  {
   "cell_type": "markdown",
   "id": "fae78497",
   "metadata": {},
   "source": [
    "### 8. Análisis de Valores Faltantes\n",
    "\n",
    "Contamos cuántos valores faltantes (NaN) hay en cada columna y los ordenamos para identificar las columnas con más datos faltantes."
   ]
  },
  {
   "cell_type": "code",
   "execution_count": 10,
   "id": "d6cb11e5",
   "metadata": {},
   "outputs": [
    {
     "data": {
      "text/plain": [
       "2      0\n",
       "7      0\n",
       "13     0\n",
       "12     0\n",
       "11     0\n",
       "10     0\n",
       "9      0\n",
       "8      0\n",
       "3      6\n",
       "4      6\n",
       "6      9\n",
       "5      9\n",
       "1     12\n",
       "0     12\n",
       "dtype: int64"
      ]
     },
     "execution_count": 10,
     "metadata": {},
     "output_type": "execute_result"
    }
   ],
   "source": [
    "cc_apss.isna().sum().sort_values()"
   ]
  },
  {
   "cell_type": "markdown",
   "id": "bc1d320a",
   "metadata": {},
   "source": [
    "### 9. Imputación de Valores Faltantes\n",
    "\n",
    "Para cada columna de tipo objeto (categórica), rellenamos los valores faltantes con la moda (el valor más frecuente) de esa columna."
   ]
  },
  {
   "cell_type": "code",
   "execution_count": 11,
   "id": "d82a2106",
   "metadata": {},
   "outputs": [
    {
     "name": "stderr",
     "output_type": "stream",
     "text": [
      "C:\\Users\\mauri\\AppData\\Local\\Temp\\ipykernel_34680\\3837145218.py:3: FutureWarning: A value is trying to be set on a copy of a DataFrame or Series through chained assignment using an inplace method.\n",
      "The behavior will change in pandas 3.0. This inplace method will never work because the intermediate object on which we are setting values always behaves as a copy.\n",
      "\n",
      "For example, when doing 'df[col].method(value, inplace=True)', try using 'df.method({col: value}, inplace=True)' or df[col] = df[col].method(value) instead, to perform the operation inplace on the original object.\n",
      "\n",
      "\n",
      "  cc_apss[col].fillna(moda, inplace=True)\n"
     ]
    }
   ],
   "source": [
    "for col in cc_apss.select_dtypes(include=['object']).columns:\n",
    "    moda = cc_apss[col].mode()[0]\n",
    "    cc_apss[col].fillna(moda, inplace=True)"
   ]
  },
  {
   "cell_type": "markdown",
   "id": "94eacade",
   "metadata": {},
   "source": [
    "### 10. Verificación de Limpieza\n",
    "\n",
    "Verificamos que ya no queden valores faltantes en el dataset después de la imputación."
   ]
  },
  {
   "cell_type": "code",
   "execution_count": 14,
   "id": "350f2438",
   "metadata": {},
   "outputs": [
    {
     "data": {
      "text/plain": [
       "0     0\n",
       "1     0\n",
       "2     0\n",
       "3     0\n",
       "4     0\n",
       "5     0\n",
       "6     0\n",
       "7     0\n",
       "8     0\n",
       "9     0\n",
       "10    0\n",
       "11    0\n",
       "12    0\n",
       "13    0\n",
       "dtype: int64"
      ]
     },
     "execution_count": 14,
     "metadata": {},
     "output_type": "execute_result"
    }
   ],
   "source": [
    "cc_apss.isna().sum()"
   ]
  },
  {
   "cell_type": "markdown",
   "id": "49cf0b26",
   "metadata": {},
   "source": [
    "### 11. Creación de Copia del Dataset\n",
    "\n",
    "Creamos una copia del dataset limpio para trabajar con ella sin modificar los datos originales."
   ]
  },
  {
   "cell_type": "code",
   "execution_count": 15,
   "id": "4f975544",
   "metadata": {},
   "outputs": [],
   "source": [
    "df = cc_apss.copy()"
   ]
  },
  {
   "cell_type": "markdown",
   "id": "c271bf64",
   "metadata": {},
   "source": [
    "### 12. Separación de Features y Target\n",
    "\n",
    "Separamos el dataset en:\n",
    "- **X**: las características (todas las columnas excepto la última)\n",
    "- **y**: la variable objetivo (la última columna, que indica si se aprueba o no la tarjeta)"
   ]
  },
  {
   "cell_type": "code",
   "execution_count": 18,
   "id": "351fa882",
   "metadata": {},
   "outputs": [],
   "source": [
    "X = df.iloc[:, :-1]\n",
    "y = df.iloc[:, -1]"
   ]
  },
  {
   "cell_type": "markdown",
   "id": "8204f68b",
   "metadata": {},
   "source": [
    "### 13. Codificación de Variables\n",
    "\n",
    "Convertimos las variables categóricas en numéricas:\n",
    "- **get_dummies**: crea variables dummy para las features categóricas (one-hot encoding)\n",
    "- **LabelEncoder**: convierte la variable objetivo en valores numéricos binarios (0 y 1)"
   ]
  },
  {
   "cell_type": "code",
   "execution_count": 19,
   "id": "aa81db59",
   "metadata": {},
   "outputs": [],
   "source": [
    "X_encoded = pd.get_dummies(X, drop_first=True)\n",
    "le = LabelEncoder()\n",
    "y = le.fit_transform(y)"
   ]
  },
  {
   "cell_type": "markdown",
   "id": "8d265fd6",
   "metadata": {},
   "source": [
    "### 14. Conversión de Nombres de Columnas\n",
    "\n",
    "Convertimos todos los nombres de columnas a strings para evitar problemas con el escalador y el modelo."
   ]
  },
  {
   "cell_type": "code",
   "execution_count": 21,
   "id": "94cbe729",
   "metadata": {},
   "outputs": [],
   "source": [
    "X_encoded.columns = X_encoded.columns.astype(str)"
   ]
  },
  {
   "cell_type": "markdown",
   "id": "8091beb8",
   "metadata": {},
   "source": [
    "### 15. División de Datos en Entrenamiento y Prueba\n",
    "\n",
    "Dividimos los datos en conjuntos de entrenamiento (80%) y prueba (20%). Usamos `random_state=42` para reproducibilidad."
   ]
  },
  {
   "cell_type": "code",
   "execution_count": 22,
   "id": "1750e9c9",
   "metadata": {},
   "outputs": [],
   "source": [
    "X_train, X_test, y_train, y_test = tts(X_encoded, y, test_size=0.2, random_state=42)"
   ]
  },
  {
   "cell_type": "markdown",
   "id": "f6e64a33",
   "metadata": {},
   "source": [
    "### 16. Escalado de Features\n",
    "\n",
    "Estandarizamos las features para que tengan media 0 y desviación estándar 1. Esto es importante para la regresión logística:\n",
    "- Ajustamos el escalador con los datos de entrenamiento\n",
    "- Transformamos tanto los datos de entrenamiento como los de prueba"
   ]
  },
  {
   "cell_type": "code",
   "execution_count": 24,
   "id": "ad2334d4",
   "metadata": {},
   "outputs": [],
   "source": [
    "scaler = StandardScaler()\n",
    "X_train = scaler.fit_transform(X_train)\n",
    "X_test = scaler.transform(X_test)\n"
   ]
  },
  {
   "cell_type": "markdown",
   "id": "03338c43",
   "metadata": {},
   "source": [
    "### 17. Entrenamiento y Evaluación del Modelo Inicial\n",
    "\n",
    "Creamos y entrenamos un modelo de Regresión Logística con parámetros por defecto:\n",
    "- Entrenamos el modelo con los datos de entrenamiento\n",
    "- Hacemos predicciones sobre los datos de prueba\n",
    "- Evaluamos el rendimiento con el score de precisión, matriz de confusión y reporte de clasificación"
   ]
  },
  {
   "cell_type": "code",
   "execution_count": 29,
   "id": "8e87d3fe",
   "metadata": {},
   "outputs": [
    {
     "name": "stdout",
     "output_type": "stream",
     "text": [
      "0.782608695652174\n",
      "[[52 18]\n",
      " [12 56]]\n",
      "              precision    recall  f1-score   support\n",
      "\n",
      "           0       0.81      0.74      0.78        70\n",
      "           1       0.76      0.82      0.79        68\n",
      "\n",
      "    accuracy                           0.78       138\n",
      "   macro avg       0.78      0.78      0.78       138\n",
      "weighted avg       0.79      0.78      0.78       138\n",
      "\n"
     ]
    }
   ],
   "source": [
    "logreg = LogisticRegression()\n",
    "logreg.fit(X_train, y_train)\n",
    "y_pred = logreg.predict(X_test)\n",
    "print(f\"{logreg.score(X_test, y_test)}\")\n",
    "print(f\"{confusion_matrix(y_test, y_pred)}\")\n",
    "print(f\"{classification_report(y_test, y_pred)}\")"
   ]
  },
  {
   "cell_type": "markdown",
   "id": "c94494b6",
   "metadata": {},
   "source": [
    "### 18. Optimización de Hiperparámetros con Grid Search\n",
    "\n",
    "Realizamos una búsqueda exhaustiva para encontrar los mejores hiperparámetros:\n",
    "- **tol**: tolerancia para el criterio de parada\n",
    "- **max_iter**: número máximo de iteraciones\n",
    "- Usamos validación cruzada con 5 folds (cv=5)\n",
    "- Optimizamos para maximizar la precisión (accuracy)\n",
    "- Usamos todos los núcleos disponibles (n_jobs=-1) para acelerar el proceso"
   ]
  },
  {
   "cell_type": "code",
   "execution_count": 34,
   "id": "8c585edc",
   "metadata": {},
   "outputs": [
    {
     "name": "stdout",
     "output_type": "stream",
     "text": [
      "Mejor score: 0.846027846027846\n",
      "Mejores parametros: {'max_iter': 100, 'tol': 0.001}\n"
     ]
    }
   ],
   "source": [
    "tol = [0.01, 0.001, 0.0001]\n",
    "max_iter = [100, 200, 300, 500, 1000]\n",
    "param_grid = dict(tol = tol, max_iter = max_iter)\n",
    "grid_model = GridSearchCV(\n",
    "    estimator = logreg,\n",
    "    param_grid = param_grid,\n",
    "    cv = 5,\n",
    "    scoring='accuracy',\n",
    "    n_jobs=-1,\n",
    ")\n",
    "\n",
    "grid_model.fit(X_train, y_train)\n",
    "print(f\"Mejor score: {grid_model.best_score_}\")\n",
    "print(f\"Mejores parametros: {grid_model.best_params_}\")"
   ]
  },
  {
   "cell_type": "markdown",
   "id": "f141c847",
   "metadata": {},
   "source": [
    "### 19. Evaluación del Modelo Optimizado\n",
    "\n",
    "Obtenemos el mejor modelo encontrado por Grid Search y evaluamos su rendimiento en el conjunto de prueba para ver si los hiperparámetros optimizados mejoraron la precisión."
   ]
  },
  {
   "cell_type": "code",
   "execution_count": 35,
   "id": "74a84188",
   "metadata": {},
   "outputs": [
    {
     "name": "stdout",
     "output_type": "stream",
     "text": [
      "Score del mejor modelo: 0.782608695652174\n"
     ]
    }
   ],
   "source": [
    "best_model = grid_model.best_estimator_\n",
    "best_score = best_model.score(X_test, y_test)\n",
    "print(f\"Score del mejor modelo: {best_score}\")"
   ]
  },
  {
   "cell_type": "code",
   "execution_count": null,
   "id": "03aeda3e",
   "metadata": {},
   "outputs": [],
   "source": []
  }
 ],
 "metadata": {
  "kernelspec": {
   "display_name": "Python 3",
   "language": "python",
   "name": "python3"
  },
  "language_info": {
   "codemirror_mode": {
    "name": "ipython",
    "version": 3
   },
   "file_extension": ".py",
   "mimetype": "text/x-python",
   "name": "python",
   "nbconvert_exporter": "python",
   "pygments_lexer": "ipython3",
   "version": "3.13.3"
  }
 },
 "nbformat": 4,
 "nbformat_minor": 5
}
